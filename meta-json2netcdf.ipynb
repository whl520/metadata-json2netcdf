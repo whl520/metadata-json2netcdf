{
 "cells": [
  {
   "cell_type": "markdown",
   "id": "02de21b0",
   "metadata": {},
   "source": [
    "# Metadata json to netCDF converter\n",
    "Converting a jason metadata template file to a comtomized netCDF file, which contains only the header without data. \n",
    "From the template, users could add the attributes and change the value for each attribute for dimensions, global attributes and variables. "
   ]
  },
  {
   "cell_type": "code",
   "execution_count": null,
   "id": "1d97c631",
   "metadata": {},
   "outputs": [],
   "source": [
    "# Import modules\n",
    "import os \n",
    "import json\n",
    "from netCDF4 import Dataset"
   ]
  },
  {
   "cell_type": "code",
   "execution_count": null,
   "id": "249bc79d",
   "metadata": {},
   "outputs": [],
   "source": [
    "# Define output nc/json filename\n",
    "#output_file = \"point_mooring\"\n",
    "#output_file = \"profile_ctd\"\n",
    "output_file = \"profile_sonde\"\n",
    "#output_file = \"satellite_l2\"\n",
    "#output_file = \"satellite_L3_L4\"\n",
    "#output_file = \"trajectory_drifter\""
   ]
  },
  {
   "cell_type": "code",
   "execution_count": null,
   "id": "2a65642b",
   "metadata": {},
   "outputs": [],
   "source": [
    "# Listing all the template JSON files in smpl/ sub-directory\n",
    "parentdir = os.getcwd()\n",
    "jpath = os.path.join(parentdir, 'smpl') \n",
    "smpl_dir_list = os.listdir(jpath)\n",
    "x=[print(i,smpl) for i, smpl in enumerate(smpl_dir_list)]"
   ]
  },
  {
   "cell_type": "code",
   "execution_count": null,
   "id": "cfa1b3e2",
   "metadata": {},
   "outputs": [],
   "source": [
    "# Choose the template JSON file from the list by entering the index value.\n",
    "ind = input(\"Choose the sample_json file by entering the index value: \")\n",
    "# example_json = smpl_dir_list[int(ind)]\n",
    "smpl_json = os.path.join(jpath,smpl_dir_list[int(ind)])\n",
    "print(smpl_json)"
   ]
  },
  {
   "cell_type": "code",
   "execution_count": null,
   "id": "2f2efbed",
   "metadata": {},
   "outputs": [],
   "source": [
    "# Read the json file\n",
    "with open(smpl_json, 'r') as f:\n",
    "    mData = json.loads(f.read())"
   ]
  },
  {
   "cell_type": "code",
   "execution_count": null,
   "id": "2b330595",
   "metadata": {},
   "outputs": [],
   "source": [
    "# Print the sample json file\n",
    "json_formatted_str = json.dumps(mData, indent=2)\n",
    "print(json_formatted_str)"
   ]
  },
  {
   "cell_type": "code",
   "execution_count": null,
   "id": "19bcba09",
   "metadata": {},
   "outputs": [],
   "source": [
    "# function to add and remove key:value pair\n",
    "def add_rem_attri(grp_dict, isValGrp = ''):\n",
    "    # Add the new attribute\n",
    "    newKey = input(\"++ Add a new attribute KEY? (KEY-Name/Enter(no)): \")\n",
    "    while newKey != '':\n",
    "        if isValGrp == 'var':\n",
    "            newValtmpl = input(\"Enter the template(example) var name: \")\n",
    "            grp_dict[newKey]= grp_dict[newValtmpl]\n",
    "        else:\n",
    "            grp_dict[newKey]= ''\n",
    "            \n",
    "        newKey = input(\"++ Add another new attribute KEY? (KEY-Name/Enter(no)): \")\n",
    "            \n",
    "    # Remove the example_var variables\n",
    "    delKey = input(\"-- Delete a attribute KEY? (KEY-Name/Enter(no)): \")\n",
    "    while delKey != '':\n",
    "        if delKey in grp_dict.keys(): \n",
    "            del grp_dict[delKey]\n",
    "\n",
    "        delKey = input(\"-- Delete another KEY? (KEY-Name/Enter(no)): \")\n",
    "        \n",
    "    print([key for key in grp_dict.keys()])\n"
   ]
  },
  {
   "cell_type": "code",
   "execution_count": null,
   "id": "c2a4d567",
   "metadata": {},
   "outputs": [],
   "source": [
    "# A recursive function to change the attribute values.\n",
    "def change_val(grp_attr):\n",
    "    for key, value in grp_attr.items():\n",
    "        if (type(value) is dict):\n",
    "            #print(\"\\n\", \"GROUP NAME: \" + key)\n",
    "            x = input(\"#### Change the attributes of '\" + key + \"'? (Y/Enter(no)): \")\n",
    "            if x.lower() == 'y':\n",
    "                # Print the json file\n",
    "                json_formatted_str = json.dumps(value, indent=2)\n",
    "                print(json_formatted_str)\n",
    "                change_val(value)\n",
    "        else:\n",
    "            #print ('\\t', key, ' = ', value)\n",
    "            x = input(\"--> Change the '\" + key + \"' value? (Y/Enter(no)): \")\n",
    "            if x.lower() == 'y':\n",
    "                type_str = input(\"  -->> Enter the data type (int, float, list, or default('str')): \")\n",
    "                if type_str ==  \"int\":\n",
    "                    grp_attr[key] = int(input(\"Enter new value for '\" + key + \"': \"))\n",
    "                elif type_str ==  \"float\":\n",
    "                    grp_attr[key] = float(input(\"Enter new value for '\" + key + \"': \"))\n",
    "                elif type_str ==  \"list\":\n",
    "                    list_type = input(\"  -->> Enter the LIST type (int, float, or default('str')): \")\n",
    "                    strList = input(\"Enter new value for '\" + key + \"': \").split(',')\n",
    "                    if list_type ==  \"int\":\n",
    "                        grp_attr[key] = list(map(int,strList))\n",
    "                    elif list_type ==  \"float\":\n",
    "                        grp_attr[key] = list(map(float,strList))\n",
    "                    else:\n",
    "                        grp_attr[key] = strList\n",
    "                else:\n",
    "                    grp_attr[key] = input(\"Enter new value for '\" + key + \"': \")"
   ]
  },
  {
   "cell_type": "markdown",
   "id": "367d543f",
   "metadata": {},
   "source": [
    "# Review and change \"dimensions\""
   ]
  },
  {
   "cell_type": "code",
   "execution_count": null,
   "id": "aab7acbe",
   "metadata": {},
   "outputs": [],
   "source": [
    "# dimensions fields\n",
    "dims = mData['dimensions']\n",
    "dims"
   ]
  },
  {
   "cell_type": "code",
   "execution_count": null,
   "id": "bbe7ad0a",
   "metadata": {},
   "outputs": [],
   "source": [
    "# Add and/or remove Key:Value pairs of dimensions\n",
    "add_rem_attri(dims)"
   ]
  },
  {
   "cell_type": "code",
   "execution_count": null,
   "id": "a6de7057",
   "metadata": {},
   "outputs": [],
   "source": [
    "# Review and change the attribute values \n",
    "change_val(dims)"
   ]
  },
  {
   "cell_type": "code",
   "execution_count": null,
   "id": "dc93c4a6",
   "metadata": {},
   "outputs": [],
   "source": [
    "print(dims)"
   ]
  },
  {
   "cell_type": "markdown",
   "id": "c3dbb0d7",
   "metadata": {},
   "source": [
    "# Review and change \"global attributes\""
   ]
  },
  {
   "cell_type": "code",
   "execution_count": null,
   "id": "5e29700c",
   "metadata": {},
   "outputs": [],
   "source": [
    "# Global attribute dict\n",
    "glb_attr = mData['global_attributes']\n",
    "glb_attr"
   ]
  },
  {
   "cell_type": "code",
   "execution_count": null,
   "id": "51435bdd",
   "metadata": {},
   "outputs": [],
   "source": [
    "# Add and/or remove Key:Value pairs of dimensions\n",
    "add_rem_attri(glb_attr)"
   ]
  },
  {
   "cell_type": "code",
   "execution_count": null,
   "id": "0943e3bc",
   "metadata": {},
   "outputs": [],
   "source": [
    "# Loop through the global attributes, change the attribute value as needed.\n",
    "change_val(glb_attr)"
   ]
  },
  {
   "cell_type": "code",
   "execution_count": null,
   "id": "b791c9e0",
   "metadata": {},
   "outputs": [],
   "source": [
    "glb_attr"
   ]
  },
  {
   "cell_type": "markdown",
   "id": "c1419c3c",
   "metadata": {},
   "source": [
    "# Review and change \"variables\""
   ]
  },
  {
   "cell_type": "code",
   "execution_count": null,
   "id": "eb225efd",
   "metadata": {},
   "outputs": [],
   "source": [
    "# Variables group\n",
    "var_attr = mData['variables']\n",
    "#var_attr\n",
    "print([key for key in var_attr.keys()])"
   ]
  },
  {
   "cell_type": "code",
   "execution_count": null,
   "id": "14988642",
   "metadata": {},
   "outputs": [],
   "source": [
    "# Add and/or remove Key:Value pairs of dimensions\n",
    "add_rem_attri(var_attr, 'var')"
   ]
  },
  {
   "cell_type": "code",
   "execution_count": null,
   "id": "542c7dee",
   "metadata": {},
   "outputs": [],
   "source": [
    "# Loop through the variables\n",
    "change_val(var_attr)"
   ]
  },
  {
   "cell_type": "code",
   "execution_count": null,
   "id": "01620dfa",
   "metadata": {},
   "outputs": [],
   "source": [
    "# reviewing all the variables\n",
    "var_attr"
   ]
  },
  {
   "cell_type": "markdown",
   "id": "62b8255e",
   "metadata": {},
   "source": [
    "# Write the new metadata to netCDF and json files to out_dir directory"
   ]
  },
  {
   "cell_type": "code",
   "execution_count": null,
   "id": "ad4b1410",
   "metadata": {},
   "outputs": [],
   "source": [
    "# Define the output netCDF file path\n",
    "oPath = os.path.join(parentdir, 'out_dir') \n",
    "empty_nc = os.path.join(oPath, output_file + '.nc')\n",
    "empty_nc"
   ]
  },
  {
   "cell_type": "code",
   "execution_count": null,
   "id": "80e266b3",
   "metadata": {},
   "outputs": [],
   "source": [
    "if not os.path.exists(oPath):\n",
    "    os.makedirs(oPath)"
   ]
  },
  {
   "cell_type": "code",
   "execution_count": null,
   "id": "be70b7e3",
   "metadata": {},
   "outputs": [],
   "source": [
    "# Create an empty netCDF file\n",
    "with Dataset(empty_nc, \"w\") as nc:\n",
    "    # Add dimensions\n",
    "    for dim_name, dim_size in mData[\"dimensions\"].items():\n",
    "        nc.createDimension(dim_name, dim_size)\n",
    "\n",
    "    # Add variables and their attributes\n",
    "    for var_name, var_attrs in mData[\"variables\"].items():\n",
    "        var = nc.createVariable(var_name, var_attrs[\"type\"], var_attrs[\"dimensions\"])\n",
    "        for attr_name, attr_value in var_attrs[\"attributes\"].items():\n",
    "            setattr(var, attr_name, attr_value)\n",
    "\n",
    "    # Add global attributes\n",
    "    for global_attr_name, global_attr_value in mData[\"global_attributes\"].items():\n",
    "        setattr(nc, global_attr_name, global_attr_value)\n",
    "\n",
    "print(f\"Empty netCDF file '{empty_nc}' created successfully with embedded JSON metadata attributes.\")"
   ]
  },
  {
   "cell_type": "code",
   "execution_count": null,
   "id": "5a6e8b7c",
   "metadata": {},
   "outputs": [],
   "source": [
    "# Output the modified metadata dict to a json file.\n",
    "out_json = os.path.join(oPath, output_file + '.json')\n",
    "with open(out_json, 'w', encoding='utf-8') as f:\n",
    "    json.dump(mData, f, ensure_ascii=False, indent=4)"
   ]
  },
  {
   "cell_type": "code",
   "execution_count": null,
   "id": "ecb8f6b1",
   "metadata": {},
   "outputs": [],
   "source": [
    "# system call to display the customized meta info from the netCDF. \n",
    "!ncdump -h {empty_nc}"
   ]
  },
  {
   "cell_type": "code",
   "execution_count": null,
   "id": "d29a6ca2",
   "metadata": {},
   "outputs": [],
   "source": []
  }
 ],
 "metadata": {
  "kernelspec": {
   "display_name": "Python 3 (ipykernel)",
   "language": "python",
   "name": "python3"
  },
  "language_info": {
   "codemirror_mode": {
    "name": "ipython",
    "version": 3
   },
   "file_extension": ".py",
   "mimetype": "text/x-python",
   "name": "python",
   "nbconvert_exporter": "python",
   "pygments_lexer": "ipython3",
   "version": "3.9.18"
  }
 },
 "nbformat": 4,
 "nbformat_minor": 5
}
