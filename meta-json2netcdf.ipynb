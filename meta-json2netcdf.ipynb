{
 "cells": [
  {
   "cell_type": "markdown",
   "id": "02de21b0",
   "metadata": {},
   "source": [
    "# Metadata json to netCDF converter\n",
    "Converting a jason metadata template file to a comtomized netCDF file, which contains only the header without data. \n",
    "From the template, users could add the attributes and change the value for each attribute for dimensions, global attributes and variables. "
   ]
  },
  {
   "cell_type": "code",
   "execution_count": 1,
   "id": "1d97c631",
   "metadata": {},
   "outputs": [],
   "source": [
    "# Import modules\n",
    "import os \n",
    "import json\n",
    "from netCDF4 import Dataset"
   ]
  },
  {
   "cell_type": "code",
   "execution_count": 2,
   "id": "249bc79d",
   "metadata": {},
   "outputs": [],
   "source": [
    "# Define the filename for the input sample json file and output nc/json files\n",
    "example_json = 'meta_tmpl.json'\n",
    "output_file = \"empty_netcdf\""
   ]
  },
  {
   "cell_type": "code",
   "execution_count": 3,
   "id": "c2a4d567",
   "metadata": {},
   "outputs": [],
   "source": [
    "# A recursive function to change the attribute values.\n",
    "def change_val(grp_attr):\n",
    "    for key, value in grp_attr.items():\n",
    "        if (type(value) is dict):\n",
    "            #print(\"\\n\", \"GROUP NAME: \" + key)\n",
    "            x = input(\"#### Want to change the attributes of '\" + key + \"'? (Y/Enter): \")\n",
    "            if x.lower() == 'y':\n",
    "                # Print the json file\n",
    "                json_formatted_str = json.dumps(value, indent=2)\n",
    "                print(json_formatted_str)\n",
    "                change_val(value)\n",
    "        else:\n",
    "            #print ('\\t', key, ' = ', value)\n",
    "            x = input(\"--> Want to change the '\" + key + \"' value? (Y/Enter): \")\n",
    "            if x.lower() == 'y':\n",
    "                type_str = input(\"  -->> Enter the data type (int or float): \")\n",
    "                if type_str ==  \"int\":\n",
    "                    grp_attr[key] = int(input(\"Enter new value for '\" + key + \"': \"))\n",
    "                elif type_str ==  \"float\":\n",
    "                    grp_attr[key] = float(input(\"Enter new value for '\" + key + \"': \"))\n",
    "                else:\n",
    "                    grp_attr[key] = input(\"Enter new value for '\" + key + \"': \")\n",
    "    return"
   ]
  },
  {
   "cell_type": "code",
   "execution_count": 4,
   "id": "2a65642b",
   "metadata": {},
   "outputs": [],
   "source": [
    "# Open the metadata template json file for read\n",
    "parentdir = os.getcwd()\n",
    "jpath = os.path.join(parentdir, 'smpl') \n",
    "smpl_json = os.path.join(jpath,example_json)"
   ]
  },
  {
   "cell_type": "code",
   "execution_count": 5,
   "id": "2f2efbed",
   "metadata": {},
   "outputs": [],
   "source": [
    "# Read the json file\n",
    "with open(smpl_json, 'r') as f:\n",
    "    mData = json.loads(f.read())"
   ]
  },
  {
   "cell_type": "code",
   "execution_count": 6,
   "id": "2b330595",
   "metadata": {},
   "outputs": [
    {
     "name": "stdout",
     "output_type": "stream",
     "text": [
      "{\n",
      "  \"dimensions\": {\n",
      "    \"time\": 1,\n",
      "    \"lat\": 9000,\n",
      "    \"lon\": 18000\n",
      "  },\n",
      "  \"variables\": {\n",
      "    \"time\": {\n",
      "      \"type\": \"int\",\n",
      "      \"dimensions\": [\n",
      "        \"time\"\n",
      "      ],\n",
      "      \"attributes\": {\n",
      "        \"long_name\": \"reference time of sst file\",\n",
      "        \"units\": \"seconds since 1981-01-01 00:00:00\",\n",
      "        \"comment\": \"seconds since 1981-01-01 00:00:00\",\n",
      "        \"standard_name\": \"time\",\n",
      "        \"calendar\": \"Gregorian\",\n",
      "        \"axis\": \"T\",\n",
      "        \"coverage_content_type\": \"coordinate\"\n",
      "      }\n",
      "    },\n",
      "    \"lat\": {\n",
      "      \"type\": \"float\",\n",
      "      \"dimensions\": [\n",
      "        \"lat\"\n",
      "      ],\n",
      "      \"attributes\": {\n",
      "        \"long_name\": \"latitude\",\n",
      "        \"comment\": \"Latitude for locating data\",\n",
      "        \"units\": \"degrees_north\",\n",
      "        \"axis\": \"Y\",\n",
      "        \"valid_min\": -90,\n",
      "        \"valid_max\": 90,\n",
      "        \"standard_name\": \"latitude\",\n",
      "        \"coverage_content_type\": \"coordinate\"\n",
      "      }\n",
      "    },\n",
      "    \"lon\": {\n",
      "      \"type\": \"float\",\n",
      "      \"dimensions\": [\n",
      "        \"lon\"\n",
      "      ],\n",
      "      \"attributes\": {\n",
      "        \"long_name\": \"longitude\",\n",
      "        \"comment\": \"Longitude for locating data\",\n",
      "        \"units\": \"degrees_east\",\n",
      "        \"axis\": \"X\",\n",
      "        \"valid_min\": -180,\n",
      "        \"valid_max\": 180,\n",
      "        \"standard_name\": \"longitude\",\n",
      "        \"coverage_content_type\": \"coordinate\"\n",
      "      }\n",
      "    },\n",
      "    \"example_var\": {\n",
      "      \"type\": \"short\",\n",
      "      \"dimensions\": [\n",
      "        \"time\",\n",
      "        \"lat\",\n",
      "        \"lon\"\n",
      "      ],\n",
      "      \"attributes\": {\n",
      "        \"add_offset\": 273.15,\n",
      "        \"comment\": \" \",\n",
      "        \"coordinates\": \"lon lat\",\n",
      "        \"long_name\": \"sea surface sub-skin temperature\",\n",
      "        \"scale_factor\": 0.01,\n",
      "        \"source\": \"\",\n",
      "        \"units\": \"kelvin\",\n",
      "        \"valid_max\": 32767,\n",
      "        \"valid_min\": -200,\n",
      "        \"FillValue\": -32768,\n",
      "        \"standard_name\": \"sea_surface_subskin_temperature\",\n",
      "        \"coverage_content_type\": \"physicalMeasurement\",\n",
      "        \"grid_mapping\": \"crs\"\n",
      "      }\n",
      "    },\n",
      "    \"crs\": {\n",
      "      \"type\": \"int\",\n",
      "      \"dimensions\": [\n",
      "        \"lat\",\n",
      "        \"lon\"\n",
      "      ],\n",
      "      \"attributes\": {\n",
      "        \"grid_mapping_name\": \"latitude_longitude\",\n",
      "        \"horizontal_datum_name\": \"World Geodetic System 1984\",\n",
      "        \"reference_ellipsoid_name\": \"WGS84\",\n",
      "        \"prime_meridian_name\": \"Greenwich\",\n",
      "        \"long_name\": \"coordinate reference system\"\n",
      "      }\n",
      "    }\n",
      "  },\n",
      "  \"global_attributes\": {\n",
      "    \"title\": \"VIIRS L2P Sea Surface Skin Temperature\",\n",
      "    \"summary\": \"Sea surface temperature (SST) retrievals produced at the NASA\",\n",
      "    \"Conventions\": \"CF-1.7, ACDD-1.3\",\n",
      "    \"standard_name_vocabulary\": \"NetCDF Climate and Forecast (CF) Metadata Convention\"\n",
      "  }\n",
      "}\n"
     ]
    }
   ],
   "source": [
    "# Print the sample json file\n",
    "json_formatted_str = json.dumps(mData, indent=2)\n",
    "print(json_formatted_str)"
   ]
  },
  {
   "cell_type": "markdown",
   "id": "367d543f",
   "metadata": {},
   "source": [
    "# Review and change \"dimensions\""
   ]
  },
  {
   "cell_type": "code",
   "execution_count": 10,
   "id": "aab7acbe",
   "metadata": {},
   "outputs": [
    {
     "data": {
      "text/plain": [
       "{'time': 1, 'lat': 90, 'lon': 180}"
      ]
     },
     "execution_count": 10,
     "metadata": {},
     "output_type": "execute_result"
    }
   ],
   "source": [
    "# dimensions fields\n",
    "dims = mData['dimensions']\n",
    "dims"
   ]
  },
  {
   "cell_type": "code",
   "execution_count": 8,
   "id": "bbe7ad0a",
   "metadata": {},
   "outputs": [],
   "source": [
    "# Changing the key of dimensions\n",
    "# dims['ni'] = dims.pop('lat')\n",
    "# dims['nj'] = dims.pop('lon')"
   ]
  },
  {
   "cell_type": "code",
   "execution_count": 9,
   "id": "a6de7057",
   "metadata": {},
   "outputs": [
    {
     "name": "stdout",
     "output_type": "stream",
     "text": [
      "--> Want to change the 'time' value? (Y/Enter): \n",
      "--> Want to change the 'lat' value? (Y/Enter): y\n",
      "  -->> Enter the data type (int or float): int\n",
      "Enter new value for 'lat': 90\n",
      "--> Want to change the 'lon' value? (Y/Enter): y\n",
      "  -->> Enter the data type (int or float): int\n",
      "Enter new value for 'lon': 180\n"
     ]
    }
   ],
   "source": [
    "# Loop through the dimensions, change the attribute value as needed.\n",
    "change_val(dims)"
   ]
  },
  {
   "cell_type": "markdown",
   "id": "c3dbb0d7",
   "metadata": {},
   "source": [
    "# Review and change \"global attributes\""
   ]
  },
  {
   "cell_type": "code",
   "execution_count": 11,
   "id": "5e29700c",
   "metadata": {},
   "outputs": [
    {
     "data": {
      "text/plain": [
       "{'title': 'VIIRS L2P Sea Surface Skin Temperature',\n",
       " 'summary': 'Sea surface temperature (SST) retrievals produced at the NASA',\n",
       " 'Conventions': 'CF-1.7, ACDD-1.3',\n",
       " 'standard_name_vocabulary': 'NetCDF Climate and Forecast (CF) Metadata Convention'}"
      ]
     },
     "execution_count": 11,
     "metadata": {},
     "output_type": "execute_result"
    }
   ],
   "source": [
    "# Global attribute dict\n",
    "glb_attr = mData['global_attributes']\n",
    "glb_attr"
   ]
  },
  {
   "cell_type": "code",
   "execution_count": 12,
   "id": "0943e3bc",
   "metadata": {},
   "outputs": [
    {
     "name": "stdout",
     "output_type": "stream",
     "text": [
      "--> Want to change the 'title' value? (Y/Enter): y\n",
      "  -->> Enter the data type (int or float): \n",
      "Enter new value for 'title': sst\n",
      "--> Want to change the 'summary' value? (Y/Enter): \n",
      "--> Want to change the 'Conventions' value? (Y/Enter): \n",
      "--> Want to change the 'standard_name_vocabulary' value? (Y/Enter): \n"
     ]
    }
   ],
   "source": [
    "# Loop through the global attributes, change the attribute value as needed.\n",
    "change_val(glb_attr)"
   ]
  },
  {
   "cell_type": "code",
   "execution_count": 13,
   "id": "6f1e078d",
   "metadata": {},
   "outputs": [
    {
     "name": "stdout",
     "output_type": "stream",
     "text": [
      "-- Want to Add a new global attribute (Y/Enter): y\n",
      "Enter the new key string: id\n",
      "Enter the new attribute value: test1\n",
      "-- Want to Add another new global attribute (Y/Enter): y\n",
      "Enter the new key string: platform\n",
      "Enter the new attribute value: modis\n",
      "-- Want to Add another new global attribute (Y/Enter): \n"
     ]
    }
   ],
   "source": [
    "# Add new global attributes\n",
    "isAdd_ga = input(\"-- Want to Add a new global attribute (Y/Enter): \")\n",
    "while isAdd_ga.lower() == 'y':\n",
    "    newKey = input(\"Enter the new key string: \")\n",
    "    newAttr = input(\"Enter the new attribute value: \")\n",
    "    glb_attr[newKey] = newAttr\n",
    "    isAdd_ga = input(\"-- Want to Add another new global attribute (Y/Enter): \")\n",
    "    if isAdd_ga.lower() != 'y': break"
   ]
  },
  {
   "cell_type": "code",
   "execution_count": 14,
   "id": "b791c9e0",
   "metadata": {},
   "outputs": [
    {
     "name": "stdout",
     "output_type": "stream",
     "text": [
      "{\n",
      "  \"title\": \"sst\",\n",
      "  \"summary\": \"Sea surface temperature (SST) retrievals produced at the NASA\",\n",
      "  \"Conventions\": \"CF-1.7, ACDD-1.3\",\n",
      "  \"standard_name_vocabulary\": \"NetCDF Climate and Forecast (CF) Metadata Convention\",\n",
      "  \"id\": \"test1\",\n",
      "  \"platform\": \"modis\"\n",
      "}\n"
     ]
    }
   ],
   "source": [
    "json_formatted_str = json.dumps(glb_attr, indent=2)\n",
    "print(json_formatted_str)"
   ]
  },
  {
   "cell_type": "markdown",
   "id": "c1419c3c",
   "metadata": {},
   "source": [
    "# Review and change \"variables\""
   ]
  },
  {
   "cell_type": "code",
   "execution_count": 15,
   "id": "eb225efd",
   "metadata": {},
   "outputs": [
    {
     "name": "stdout",
     "output_type": "stream",
     "text": [
      "['time', 'lat', 'lon', 'example_var', 'crs']\n"
     ]
    }
   ],
   "source": [
    "# Variables group\n",
    "var_attr = mData['variables']\n",
    "#var_attr\n",
    "print([key for key in var_attr.keys()])"
   ]
  },
  {
   "cell_type": "code",
   "execution_count": 16,
   "id": "f33d52a7",
   "metadata": {},
   "outputs": [
    {
     "name": "stdout",
     "output_type": "stream",
     "text": [
      "-- Want to Add a new variable (Y/Enter): y\n",
      "Enter the new variable name: sst\n",
      "-- Want to Add another variable (Y/Enter): y\n",
      "Enter the new variable name: l2p_flags\n",
      "-- Want to Add another variable (Y/Enter): \n"
     ]
    }
   ],
   "source": [
    "# Add the new variable to variables attribute\n",
    "isAdd_var = input(\"-- Want to Add a new variable (Y/Enter): \")\n",
    "while isAdd_var.lower() == 'y':\n",
    "    newVar = input(\"Enter the new variable name: \")\n",
    "#    newVal = input(\"Enter the new variable struct: \")\n",
    "    var_attr[newVar]= var_attr[\"example_var\"]\n",
    "    isAdd_var = input(\"-- Want to Add another variable (Y/Enter): \")\n",
    "    if isAdd_var.lower() != 'y': break"
   ]
  },
  {
   "cell_type": "code",
   "execution_count": 17,
   "id": "7371c2bb",
   "metadata": {},
   "outputs": [
    {
     "name": "stdout",
     "output_type": "stream",
     "text": [
      "['time', 'lat', 'lon', 'crs', 'sst', 'l2p_flags']\n"
     ]
    }
   ],
   "source": [
    "# Remove the example_var variable\n",
    "if 'example_var' in var_attr.keys(): \n",
    "    del var_attr['example_var']\n",
    "    print([key for key in var_attr.keys()])"
   ]
  },
  {
   "cell_type": "code",
   "execution_count": 18,
   "id": "542c7dee",
   "metadata": {},
   "outputs": [
    {
     "name": "stdout",
     "output_type": "stream",
     "text": [
      "#### Want to change the attributes of 'time'? (Y/Enter): \n",
      "#### Want to change the attributes of 'lat'? (Y/Enter): \n",
      "#### Want to change the attributes of 'lon'? (Y/Enter): \n",
      "#### Want to change the attributes of 'crs'? (Y/Enter): \n",
      "#### Want to change the attributes of 'sst'? (Y/Enter): \n",
      "#### Want to change the attributes of 'l2p_flags'? (Y/Enter): \n"
     ]
    }
   ],
   "source": [
    "# Loop through the variables\n",
    "change_val(var_attr)"
   ]
  },
  {
   "cell_type": "code",
   "execution_count": 19,
   "id": "01620dfa",
   "metadata": {},
   "outputs": [
    {
     "name": "stdout",
     "output_type": "stream",
     "text": [
      "{\n",
      "  \"time\": {\n",
      "    \"type\": \"int\",\n",
      "    \"dimensions\": [\n",
      "      \"time\"\n",
      "    ],\n",
      "    \"attributes\": {\n",
      "      \"long_name\": \"reference time of sst file\",\n",
      "      \"units\": \"seconds since 1981-01-01 00:00:00\",\n",
      "      \"comment\": \"seconds since 1981-01-01 00:00:00\",\n",
      "      \"standard_name\": \"time\",\n",
      "      \"calendar\": \"Gregorian\",\n",
      "      \"axis\": \"T\",\n",
      "      \"coverage_content_type\": \"coordinate\"\n",
      "    }\n",
      "  },\n",
      "  \"lat\": {\n",
      "    \"type\": \"float\",\n",
      "    \"dimensions\": [\n",
      "      \"lat\"\n",
      "    ],\n",
      "    \"attributes\": {\n",
      "      \"long_name\": \"latitude\",\n",
      "      \"comment\": \"Latitude for locating data\",\n",
      "      \"units\": \"degrees_north\",\n",
      "      \"axis\": \"Y\",\n",
      "      \"valid_min\": -90,\n",
      "      \"valid_max\": 90,\n",
      "      \"standard_name\": \"latitude\",\n",
      "      \"coverage_content_type\": \"coordinate\"\n",
      "    }\n",
      "  },\n",
      "  \"lon\": {\n",
      "    \"type\": \"float\",\n",
      "    \"dimensions\": [\n",
      "      \"lon\"\n",
      "    ],\n",
      "    \"attributes\": {\n",
      "      \"long_name\": \"longitude\",\n",
      "      \"comment\": \"Longitude for locating data\",\n",
      "      \"units\": \"degrees_east\",\n",
      "      \"axis\": \"X\",\n",
      "      \"valid_min\": -180,\n",
      "      \"valid_max\": 180,\n",
      "      \"standard_name\": \"longitude\",\n",
      "      \"coverage_content_type\": \"coordinate\"\n",
      "    }\n",
      "  },\n",
      "  \"crs\": {\n",
      "    \"type\": \"int\",\n",
      "    \"dimensions\": [\n",
      "      \"lat\",\n",
      "      \"lon\"\n",
      "    ],\n",
      "    \"attributes\": {\n",
      "      \"grid_mapping_name\": \"latitude_longitude\",\n",
      "      \"horizontal_datum_name\": \"World Geodetic System 1984\",\n",
      "      \"reference_ellipsoid_name\": \"WGS84\",\n",
      "      \"prime_meridian_name\": \"Greenwich\",\n",
      "      \"long_name\": \"coordinate reference system\"\n",
      "    }\n",
      "  },\n",
      "  \"sst\": {\n",
      "    \"type\": \"short\",\n",
      "    \"dimensions\": [\n",
      "      \"time\",\n",
      "      \"lat\",\n",
      "      \"lon\"\n",
      "    ],\n",
      "    \"attributes\": {\n",
      "      \"add_offset\": 273.15,\n",
      "      \"comment\": \" \",\n",
      "      \"coordinates\": \"lon lat\",\n",
      "      \"long_name\": \"sea surface sub-skin temperature\",\n",
      "      \"scale_factor\": 0.01,\n",
      "      \"source\": \"\",\n",
      "      \"units\": \"kelvin\",\n",
      "      \"valid_max\": 32767,\n",
      "      \"valid_min\": -200,\n",
      "      \"FillValue\": -32768,\n",
      "      \"standard_name\": \"sea_surface_subskin_temperature\",\n",
      "      \"coverage_content_type\": \"physicalMeasurement\",\n",
      "      \"grid_mapping\": \"crs\"\n",
      "    }\n",
      "  },\n",
      "  \"l2p_flags\": {\n",
      "    \"type\": \"short\",\n",
      "    \"dimensions\": [\n",
      "      \"time\",\n",
      "      \"lat\",\n",
      "      \"lon\"\n",
      "    ],\n",
      "    \"attributes\": {\n",
      "      \"add_offset\": 273.15,\n",
      "      \"comment\": \" \",\n",
      "      \"coordinates\": \"lon lat\",\n",
      "      \"long_name\": \"sea surface sub-skin temperature\",\n",
      "      \"scale_factor\": 0.01,\n",
      "      \"source\": \"\",\n",
      "      \"units\": \"kelvin\",\n",
      "      \"valid_max\": 32767,\n",
      "      \"valid_min\": -200,\n",
      "      \"FillValue\": -32768,\n",
      "      \"standard_name\": \"sea_surface_subskin_temperature\",\n",
      "      \"coverage_content_type\": \"physicalMeasurement\",\n",
      "      \"grid_mapping\": \"crs\"\n",
      "    }\n",
      "  }\n",
      "}\n"
     ]
    }
   ],
   "source": [
    "# reviewing all the variables\n",
    "# var_attr\n",
    "json_formatted_str = json.dumps(var_attr, indent=2)\n",
    "print(json_formatted_str)"
   ]
  },
  {
   "cell_type": "markdown",
   "id": "62b8255e",
   "metadata": {},
   "source": [
    "# Write the new metadata to netCDF and json files to out_dir directory"
   ]
  },
  {
   "cell_type": "code",
   "execution_count": 20,
   "id": "ad4b1410",
   "metadata": {},
   "outputs": [
    {
     "data": {
      "text/plain": [
       "'C:\\\\Users\\\\wenhaoli\\\\Documents\\\\GitHub\\\\github_whl\\\\out_dir\\\\empty_netcdf.nc'"
      ]
     },
     "execution_count": 20,
     "metadata": {},
     "output_type": "execute_result"
    }
   ],
   "source": [
    "# Define the output netCDF file path\n",
    "oPath = os.path.join(parentdir, 'out_dir') \n",
    "empty_nc = os.path.join(oPath, output_file + '.nc')\n",
    "empty_nc"
   ]
  },
  {
   "cell_type": "code",
   "execution_count": 21,
   "id": "80e266b3",
   "metadata": {},
   "outputs": [],
   "source": [
    "if not os.path.exists(oPath):\n",
    "    os.makedirs(oPath)"
   ]
  },
  {
   "cell_type": "code",
   "execution_count": 22,
   "id": "be70b7e3",
   "metadata": {},
   "outputs": [
    {
     "name": "stdout",
     "output_type": "stream",
     "text": [
      "Empty netCDF file 'C:\\Users\\wenhaoli\\Documents\\GitHub\\github_whl\\out_dir\\empty_netcdf.nc' created successfully with embedded JSON metadata attributes.\n"
     ]
    }
   ],
   "source": [
    "# Create an empty netCDF file\n",
    "with Dataset(empty_nc, \"w\") as nc:\n",
    "    # Add dimensions\n",
    "    for dim_name, dim_size in mData[\"dimensions\"].items():\n",
    "        nc.createDimension(dim_name, dim_size)\n",
    "\n",
    "    # Add variables and their attributes\n",
    "    for var_name, var_attrs in mData[\"variables\"].items():\n",
    "        var = nc.createVariable(var_name, var_attrs[\"type\"], var_attrs[\"dimensions\"])\n",
    "        for attr_name, attr_value in var_attrs[\"attributes\"].items():\n",
    "            setattr(var, attr_name, attr_value)\n",
    "\n",
    "    # Add global attributes\n",
    "    for global_attr_name, global_attr_value in mData[\"global_attributes\"].items():\n",
    "        setattr(nc, global_attr_name, global_attr_value)\n",
    "\n",
    "print(f\"Empty netCDF file '{empty_nc}' created successfully with embedded JSON metadata attributes.\")"
   ]
  },
  {
   "cell_type": "code",
   "execution_count": 23,
   "id": "ecb8f6b1",
   "metadata": {},
   "outputs": [
    {
     "name": "stdout",
     "output_type": "stream",
     "text": [
      "netcdf out_dir\\\\empty_netcdf {\n",
      "dimensions:\n",
      "\ttime = 1 ;\n",
      "\tlat = 90 ;\n",
      "\tlon = 180 ;\n",
      "variables:\n",
      "\tint time(time) ;\n",
      "\t\ttime:long_name = \"reference time of sst file\" ;\n",
      "\t\ttime:units = \"seconds since 1981-01-01 00:00:00\" ;\n",
      "\t\ttime:comment = \"seconds since 1981-01-01 00:00:00\" ;\n",
      "\t\ttime:standard_name = \"time\" ;\n",
      "\t\ttime:calendar = \"Gregorian\" ;\n",
      "\t\ttime:axis = \"T\" ;\n",
      "\t\ttime:coverage_content_type = \"coordinate\" ;\n",
      "\tdouble lat(lat) ;\n",
      "\t\tlat:long_name = \"latitude\" ;\n",
      "\t\tlat:comment = \"Latitude for locating data\" ;\n",
      "\t\tlat:units = \"degrees_north\" ;\n",
      "\t\tlat:axis = \"Y\" ;\n",
      "\t\tlat:valid_min = -90. ;\n",
      "\t\tlat:valid_max = 90. ;\n",
      "\t\tlat:standard_name = \"latitude\" ;\n",
      "\t\tlat:coverage_content_type = \"coordinate\" ;\n",
      "\tdouble lon(lon) ;\n",
      "\t\tlon:long_name = \"longitude\" ;\n",
      "\t\tlon:comment = \"Longitude for locating data\" ;\n",
      "\t\tlon:units = \"degrees_east\" ;\n",
      "\t\tlon:axis = \"X\" ;\n",
      "\t\tlon:valid_min = -180. ;\n",
      "\t\tlon:valid_max = 180. ;\n",
      "\t\tlon:standard_name = \"longitude\" ;\n",
      "\t\tlon:coverage_content_type = \"coordinate\" ;\n",
      "\tint crs(lat, lon) ;\n",
      "\t\tcrs:grid_mapping_name = \"latitude_longitude\" ;\n",
      "\t\tcrs:horizontal_datum_name = \"World Geodetic System 1984\" ;\n",
      "\t\tcrs:reference_ellipsoid_name = \"WGS84\" ;\n",
      "\t\tcrs:prime_meridian_name = \"Greenwich\" ;\n",
      "\t\tcrs:long_name = \"coordinate reference system\" ;\n",
      "\tshort sst(time, lat, lon) ;\n",
      "\t\tsst:add_offset = 273.15 ;\n",
      "\t\tsst:comment = \" \" ;\n",
      "\t\tsst:coordinates = \"lon lat\" ;\n",
      "\t\tsst:long_name = \"sea surface sub-skin temperature\" ;\n",
      "\t\tsst:scale_factor = 0.01 ;\n",
      "\t\tsst:source = \"\" ;\n",
      "\t\tsst:units = \"kelvin\" ;\n",
      "\t\tsst:valid_max = 32767s ;\n",
      "\t\tsst:valid_min = -200s ;\n",
      "\t\tsst:FillValue = -32768 ;\n",
      "\t\tsst:standard_name = \"sea_surface_subskin_temperature\" ;\n",
      "\t\tsst:coverage_content_type = \"physicalMeasurement\" ;\n",
      "\t\tsst:grid_mapping = \"crs\" ;\n",
      "\tshort l2p_flags(time, lat, lon) ;\n",
      "\t\tl2p_flags:add_offset = 273.15 ;\n",
      "\t\tl2p_flags:comment = \" \" ;\n",
      "\t\tl2p_flags:coordinates = \"lon lat\" ;\n",
      "\t\tl2p_flags:long_name = \"sea surface sub-skin temperature\" ;\n",
      "\t\tl2p_flags:scale_factor = 0.01 ;\n",
      "\t\tl2p_flags:source = \"\" ;\n",
      "\t\tl2p_flags:units = \"kelvin\" ;\n",
      "\t\tl2p_flags:valid_max = 32767s ;\n",
      "\t\tl2p_flags:valid_min = -200s ;\n",
      "\t\tl2p_flags:FillValue = -32768 ;\n",
      "\t\tl2p_flags:standard_name = \"sea_surface_subskin_temperature\" ;\n",
      "\t\tl2p_flags:coverage_content_type = \"physicalMeasurement\" ;\n",
      "\t\tl2p_flags:grid_mapping = \"crs\" ;\n",
      "\n",
      "// global attributes:\n",
      "\t\t:title = \"sst\" ;\n",
      "\t\t:summary = \"Sea surface temperature (SST) retrievals produced at the NASA\" ;\n",
      "\t\t:Conventions = \"CF-1.7, ACDD-1.3\" ;\n",
      "\t\t:standard_name_vocabulary = \"NetCDF Climate and Forecast (CF) Metadata Convention\" ;\n",
      "\t\t:id = \"test1\" ;\n",
      "\t\t:platform = \"modis\" ;\n",
      "}\n"
     ]
    }
   ],
   "source": [
    "# system call to display the customized meta info from the netCDF. \n",
    "!ncdump -h out_dir\\empty_netcdf.nc"
   ]
  },
  {
   "cell_type": "code",
   "execution_count": 24,
   "id": "5a6e8b7c",
   "metadata": {},
   "outputs": [],
   "source": [
    "# Output the modified metadata dict to a json file.\n",
    "out_json = os.path.join(oPath, 'meta_tmpl' + '.json')\n",
    "with open(out_json, 'w', encoding='utf-8') as f:\n",
    "    json.dump(mData, f, ensure_ascii=False, indent=4)"
   ]
  },
  {
   "cell_type": "code",
   "execution_count": null,
   "id": "6388d29f",
   "metadata": {},
   "outputs": [],
   "source": []
  }
 ],
 "metadata": {
  "kernelspec": {
   "display_name": "Python 3 (ipykernel)",
   "language": "python",
   "name": "python3"
  },
  "language_info": {
   "codemirror_mode": {
    "name": "ipython",
    "version": 3
   },
   "file_extension": ".py",
   "mimetype": "text/x-python",
   "name": "python",
   "nbconvert_exporter": "python",
   "pygments_lexer": "ipython3",
   "version": "3.9.18"
  }
 },
 "nbformat": 4,
 "nbformat_minor": 5
}
