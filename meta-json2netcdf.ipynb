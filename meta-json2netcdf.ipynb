{
 "cells": [
  {
   "cell_type": "markdown",
   "id": "02de21b0",
   "metadata": {},
   "source": [
    "# Metadata json to netCDF converter\n",
    "Converting a jason metadata template file to a comtomized netCDF file, which contains only the header without data. \n",
    "From the template, users could add the attributes and change the value for each attribute for dimensions, global attributes and variables. "
   ]
  },
  {
   "cell_type": "code",
   "execution_count": 1,
   "id": "1d97c631",
   "metadata": {},
   "outputs": [],
   "source": [
    "# Import modules\n",
    "import os \n",
    "import json\n",
    "from netCDF4 import Dataset"
   ]
  },
  {
   "cell_type": "code",
   "execution_count": 2,
   "id": "249bc79d",
   "metadata": {},
   "outputs": [],
   "source": [
    "# Define output nc/json filename\n",
    "output_file = \"empty_netcdf\""
   ]
  },
  {
   "cell_type": "code",
   "execution_count": 3,
   "id": "2a65642b",
   "metadata": {},
   "outputs": [
    {
     "name": "stdout",
     "output_type": "stream",
     "text": [
      "0 meta_tmpl.json\n",
      "1 point_mooring_template.json\n",
      "2 profile_ctd_template.json\n",
      "3 profile_sonde_template.json\n",
      "4 satellite_l2_template.json\n",
      "5 satellite_L3_L4_template.json\n",
      "6 trajectory_drifter_template.json\n"
     ]
    }
   ],
   "source": [
    "# Listing all the template JSON files in smpl/ directory\n",
    "parentdir = os.getcwd()\n",
    "jpath = os.path.join(parentdir, 'smpl') \n",
    "smpl_dir_list = os.listdir(jpath)\n",
    "x=[print(i,smpl) for i, smpl in enumerate(smpl_dir_list)]"
   ]
  },
  {
   "cell_type": "code",
   "execution_count": 5,
   "id": "cfa1b3e2",
   "metadata": {},
   "outputs": [
    {
     "name": "stdout",
     "output_type": "stream",
     "text": [
      "Choose the sample_json file by entering the index value: 2\n",
      "C:\\Users\\wenhaoli\\Documents\\GitHub\\metadata-json2netcdf\\smpl\\profile_ctd_template.json\n"
     ]
    }
   ],
   "source": [
    "# Choose the template JSON file from the list by entering the index value.\n",
    "ind = input(\"Choose the sample_json file by entering the index value: \")\n",
    "# example_json = smpl_dir_list[int(ind)]\n",
    "smpl_json = os.path.join(jpath,smpl_dir_list[int(ind)])\n",
    "print(smpl_json)"
   ]
  },
  {
   "cell_type": "code",
   "execution_count": 6,
   "id": "c2a4d567",
   "metadata": {},
   "outputs": [],
   "source": [
    "# A recursive function to change the attribute values.\n",
    "def change_val(grp_attr):\n",
    "    for key, value in grp_attr.items():\n",
    "        if (type(value) is dict):\n",
    "            #print(\"\\n\", \"GROUP NAME: \" + key)\n",
    "            x = input(\"#### Want to change the attributes of '\" + key + \"'? (Y/Enter): \")\n",
    "            if x.lower() == 'y':\n",
    "                # Print the json file\n",
    "                json_formatted_str = json.dumps(value, indent=2)\n",
    "                print(json_formatted_str)\n",
    "                change_val(value)\n",
    "        else:\n",
    "            #print ('\\t', key, ' = ', value)\n",
    "            x = input(\"--> Want to change the '\" + key + \"' value? (Y/Enter): \")\n",
    "            if x.lower() == 'y':\n",
    "                type_str = input(\"  -->> Enter the data type (int, float, double, or default('str')): \")\n",
    "                if type_str ==  \"int\":\n",
    "                    grp_attr[key] = int(input(\"Enter new value for '\" + key + \"': \"))\n",
    "                elif type_str ==  \"float\":\n",
    "                    grp_attr[key] = float(input(\"Enter new value for '\" + key + \"': \"))\n",
    "                elif type_str ==  \"double\":\n",
    "                    grp_attr[key] = float(input(\"Enter new value for '\" + key + \"': \"))\n",
    "                else:\n",
    "                    grp_attr[key] = input(\"Enter new value for '\" + key + \"': \")\n",
    "    return"
   ]
  },
  {
   "cell_type": "code",
   "execution_count": 8,
   "id": "2f2efbed",
   "metadata": {},
   "outputs": [],
   "source": [
    "# Read the json file\n",
    "with open(smpl_json, 'r') as f:\n",
    "    mData = json.loads(f.read())"
   ]
  },
  {
   "cell_type": "code",
   "execution_count": 9,
   "id": "2b330595",
   "metadata": {},
   "outputs": [
    {
     "name": "stdout",
     "output_type": "stream",
     "text": [
      "{\n",
      "  \"dimensions\": {\n",
      "    \"depth\": 79246,\n",
      "    \"time\": 1\n",
      "  },\n",
      "  \"variables\": {\n",
      "    \"time\": {\n",
      "      \"type\": \"double\",\n",
      "      \"dimensions\": [\n",
      "        \"time\"\n",
      "      ],\n",
      "      \"attributes\": {\n",
      "        \"long_name\": \"Time of CTD measurement\",\n",
      "        \"axis\": \"T\",\n",
      "        \"standard_name\": \"time\",\n",
      "        \"units\": \"days since 1950-01-01T00:00:00\",\n",
      "        \"coverage_content_type\": \"coordinate\"\n",
      "      }\n",
      "    },\n",
      "    \"latitude\": {\n",
      "      \"type\": \"double\",\n",
      "      \"dimensions\": [\n",
      "        \"time\"\n",
      "      ],\n",
      "      \"attributes\": {\n",
      "        \"_FillValue\": -999,\n",
      "        \"long_name\": \"Latitude of CTD measurement\",\n",
      "        \"valid_max\": 16.6695,\n",
      "        \"valid_min\": 16.6695,\n",
      "        \"axis\": \"Y\",\n",
      "        \"standard_name\": \"latitude\",\n",
      "        \"units\": \"degrees_north\",\n",
      "        \"coverage_content_type\": \"coordinate\"\n",
      "      }\n",
      "    },\n",
      "    \"longitude\": {\n",
      "      \"type\": \"double\",\n",
      "      \"dimensions\": [\n",
      "        \"time\"\n",
      "      ],\n",
      "      \"attributes\": {\n",
      "        \"_FillValue\": -999,\n",
      "        \"long_name\": \"Longitude of CTD measurement\",\n",
      "        \"valid_max\": -146.547666666667,\n",
      "        \"valid_min\": -146.547666666667,\n",
      "        \"axis\": \"X\",\n",
      "        \"standard_name\": \"longitude\",\n",
      "        \"units\": \"degrees_east\",\n",
      "        \"coverage_content_type\": \"coordinate\"\n",
      "      }\n",
      "    },\n",
      "    \"depth\": {\n",
      "      \"type\": \"double\",\n",
      "      \"dimensions\": [\n",
      "        \"time\",\n",
      "        \"depth\"\n",
      "      ],\n",
      "      \"attributes\": {\n",
      "        \"_FillValue\": 99999,\n",
      "        \"long_name\": \"Depth of CTD measurement\",\n",
      "        \"valid_max\": 10000.0,\n",
      "        \"valid_min\": -1.0,\n",
      "        \"axis\": \"Z\",\n",
      "        \"positive\": \"down\",\n",
      "        \"standard_name\": \"depth\",\n",
      "        \"units\": \"meters\",\n",
      "        \"coverage_content_type\": \"coordinate\"\n",
      "      }\n",
      "    },\n",
      "    \"example_pressure\": {\n",
      "      \"type\": \"double\",\n",
      "      \"dimensions\": [\n",
      "        \"time\",\n",
      "        \"depth\"\n",
      "      ],\n",
      "      \"attributes\": {\n",
      "        \"_FillValue\": 99999,\n",
      "        \"long_name\": \"Pressure of CTD measurement\",\n",
      "        \"valid_max\": 1062.514,\n",
      "        \"valid_min\": -0.893,\n",
      "        \"add_offset\": 0,\n",
      "        \"coordinates\": \"time depth latitude longitude\",\n",
      "        \"scale_factor\": 1,\n",
      "        \"standard_name\": \"sea_water_pressure\",\n",
      "        \"units\": \"dbar\",\n",
      "        \"coverage_content_type\": \"physicalMeasurement\"\n",
      "      }\n",
      "    },\n",
      "    \"example_temperature\": {\n",
      "      \"type\": \"double\",\n",
      "      \"dimensions\": [\n",
      "        \"time\",\n",
      "        \"depth\"\n",
      "      ],\n",
      "      \"attributes\": {\n",
      "        \"_FillValue\": 9999,\n",
      "        \"long_name\": \"Temperature of CTD measurement\",\n",
      "        \"valid_max\": 27.994,\n",
      "        \"valid_min\": 4.3943,\n",
      "        \"add_offset\": 0,\n",
      "        \"coordinates\": \"time depth latitude longitude\",\n",
      "        \"scale_factor\": 1,\n",
      "        \"standard_name\": \"sea_water_temperature\",\n",
      "        \"units\": \"degrees_C\",\n",
      "        \"coverage_content_type\": \"physicalMeasurement\"\n",
      "      }\n",
      "    },\n",
      "    \"example_conductivity\": {\n",
      "      \"type\": \"double\",\n",
      "      \"dimensions\": [\n",
      "        \"time\",\n",
      "        \"depth\"\n",
      "      ],\n",
      "      \"attributes\": {\n",
      "        \"_FillValue\": 9999,\n",
      "        \"long_name\": \"Conductivity of CTD measurement\",\n",
      "        \"valid_max\": 55.32251,\n",
      "        \"valid_min\": -0.000297,\n",
      "        \"add_offset\": 0,\n",
      "        \"coordinates\": \"time depth latitude longitude\",\n",
      "        \"scale_factor\": 1,\n",
      "        \"standard_name\": \"sea_water_electrical_conductivity\",\n",
      "        \"units\": \"mS/cm\",\n",
      "        \"coverage_content_type\": \"physicalMeasurement\"\n",
      "      }\n",
      "    },\n",
      "    \"example_quality_flag\": {\n",
      "      \"type\": \"double\",\n",
      "      \"dimensions\": [\n",
      "        \"altitude\"\n",
      "      ],\n",
      "      \"attributes\": {\n",
      "        \"long_name\": \"Quality Flag\",\n",
      "        \"flag_values\": \"-1.0, 0.0, 1.0\",\n",
      "        \"flag_meanings\": \"bad questionable good\",\n",
      "        \"standard_name\": \"quality_flag\",\n",
      "        \"coverage_content_type\": \"qualityInformation\"\n",
      "      }\n",
      "    }\n",
      "  },\n",
      "  \"global_attributes\": {\n",
      "    \"Conventions\": \"CF-1.6, ACDD 1.3\",\n",
      "    \"featureType\": \"profile\",\n",
      "    \"cdm_data_type\": \"Station?\",\n",
      "    \"standard_name_vocabulary\": \"CF Standard Name Table v27\",\n",
      "    \"title\": \"\",\n",
      "    \"summary\": \"\",\n",
      "    \"source\": \"\",\n",
      "    \"platform\": \"\",\n",
      "    \"instrument\": \"\",\n",
      "    \"uuid\": \"\",\n",
      "    \"id\": \"\",\n",
      "    \"metadata_link\": \"\",\n",
      "    \"naming_authority\": \"\",\n",
      "    \"time_coverage_start\": \"YYYY-MM-DDThh:mm:ss\",\n",
      "    \"time_coverage_end\": \"YYYY-MM-DDThh:mm:ss\",\n",
      "    \"time_coverage_resolution\": 0,\n",
      "    \"geospatial_lat_min\": 0,\n",
      "    \"geospatial_lat_max\": 0,\n",
      "    \"geospatial_lat_units\": \"degrees_north\",\n",
      "    \"geospatial_lat_resolution\": 0,\n",
      "    \"geospatial_lon_min\": 0,\n",
      "    \"geospatial_lon_max\": 0,\n",
      "    \"geospatial_lon_units\": \"degrees_east\",\n",
      "    \"geospatial_lon_resolution\": 0,\n",
      "    \"geospatial_vertical_min\": 0,\n",
      "    \"geospatial_vertical_max\": 0,\n",
      "    \"geospatial_vertical_units\": \"meters\",\n",
      "    \"geospatial_vertical_resolution\": 0,\n",
      "    \"geospatial_vertical_positive\": \"down\",\n",
      "    \"creator_type\": \"\",\n",
      "    \"creator_institution\": \"\",\n",
      "    \"creator_url\": \"\",\n",
      "    \"creator_email\": \"\",\n",
      "    \"creator_name\": \"\",\n",
      "    \"creator_role\": \"\",\n",
      "    \"institution\": \"\",\n",
      "    \"publisher_name\": \"\",\n",
      "    \"publisher_type\": \"\",\n",
      "    \"publisher_email\": \"\",\n",
      "    \"publisher_url\": \"\",\n",
      "    \"project\": \"\",\n",
      "    \"processing_level\": \"L2\",\n",
      "    \"keywords_vocabulary\": \"CF Standard Names, GCMD Science Keywords\",\n",
      "    \"keywords\": \"keyword_1, keyword_2, keyword_3\",\n",
      "    \"acknowledgement\": \"\",\n",
      "    \"date_created\": \"YYYY-MM-DDThh:mm:ss\",\n",
      "    \"date_modified\": \"YYYY-MM-DDThh:mm:ss\",\n",
      "    \"date_issued\": \"YYYY-MM-DDThh:mm:ss\",\n",
      "    \"date_metadata_modified\": \"YYYY-MM-DDThh:mm:ss\",\n",
      "    \"program\": \"\",\n",
      "    \"product_version\": \"\",\n",
      "    \"license\": \"\"\n",
      "  }\n",
      "}\n"
     ]
    }
   ],
   "source": [
    "# Print the sample json file\n",
    "json_formatted_str = json.dumps(mData, indent=2)\n",
    "print(json_formatted_str)"
   ]
  },
  {
   "cell_type": "markdown",
   "id": "367d543f",
   "metadata": {},
   "source": [
    "# Review and change \"dimensions\""
   ]
  },
  {
   "cell_type": "code",
   "execution_count": 10,
   "id": "aab7acbe",
   "metadata": {},
   "outputs": [
    {
     "data": {
      "text/plain": [
       "{'depth': 79246, 'time': 1}"
      ]
     },
     "execution_count": 10,
     "metadata": {},
     "output_type": "execute_result"
    }
   ],
   "source": [
    "# dimensions fields\n",
    "dims = mData['dimensions']\n",
    "dims"
   ]
  },
  {
   "cell_type": "code",
   "execution_count": 11,
   "id": "bbe7ad0a",
   "metadata": {},
   "outputs": [],
   "source": [
    "# Changing the key of dimensions\n",
    "# dims['ni'] = dims.pop('lat')\n",
    "# dims['nj'] = dims.pop('lon')"
   ]
  },
  {
   "cell_type": "code",
   "execution_count": null,
   "id": "a6de7057",
   "metadata": {},
   "outputs": [],
   "source": [
    "# Loop through the dimensions, change the attribute value as needed.\n",
    "change_val(dims)"
   ]
  },
  {
   "cell_type": "markdown",
   "id": "c3dbb0d7",
   "metadata": {},
   "source": [
    "# Review and change \"global attributes\""
   ]
  },
  {
   "cell_type": "code",
   "execution_count": null,
   "id": "5e29700c",
   "metadata": {},
   "outputs": [],
   "source": [
    "# Global attribute dict\n",
    "glb_attr = mData['global_attributes']\n",
    "glb_attr"
   ]
  },
  {
   "cell_type": "code",
   "execution_count": null,
   "id": "0943e3bc",
   "metadata": {},
   "outputs": [],
   "source": [
    "# Loop through the global attributes, change the attribute value as needed.\n",
    "change_val(glb_attr)"
   ]
  },
  {
   "cell_type": "code",
   "execution_count": null,
   "id": "6f1e078d",
   "metadata": {},
   "outputs": [],
   "source": [
    "# Add new global attributes\n",
    "isAdd_ga = input(\"-- Want to Add a new global attribute (Y/Enter): \")\n",
    "while isAdd_ga.lower() == 'y':\n",
    "    newKey = input(\"Enter the new key string: \")\n",
    "    newAttr = input(\"Enter the new attribute value: \")\n",
    "    glb_attr[newKey] = newAttr\n",
    "    isAdd_ga = input(\"-- Want to Add another new global attribute (Y/Enter): \")\n",
    "    if isAdd_ga.lower() != 'y': break"
   ]
  },
  {
   "cell_type": "code",
   "execution_count": null,
   "id": "b791c9e0",
   "metadata": {},
   "outputs": [],
   "source": [
    "json_formatted_str = json.dumps(glb_attr, indent=2)\n",
    "print(json_formatted_str)"
   ]
  },
  {
   "cell_type": "markdown",
   "id": "c1419c3c",
   "metadata": {},
   "source": [
    "# Review and change \"variables\""
   ]
  },
  {
   "cell_type": "code",
   "execution_count": null,
   "id": "eb225efd",
   "metadata": {},
   "outputs": [],
   "source": [
    "# Variables group\n",
    "var_attr = mData['variables']\n",
    "#var_attr\n",
    "print([key for key in var_attr.keys()])"
   ]
  },
  {
   "cell_type": "code",
   "execution_count": null,
   "id": "f33d52a7",
   "metadata": {},
   "outputs": [],
   "source": [
    "# Add the new variable to variables attribute\n",
    "isAdd_var = input(\"-- Want to Add a new variable (Y/Enter): \")\n",
    "while isAdd_var.lower() == 'y':\n",
    "    newVar = input(\"Enter the new variable name: \")\n",
    "    newValtmpl = input(\"Enter the template var name: \")\n",
    "    var_attr[newVar]= var_attr[newValtmpl]\n",
    "    isAdd_var = input(\"-- Want to Add another variable (Y/Enter): \")\n",
    "    if isAdd_var.lower() != 'y': break"
   ]
  },
  {
   "cell_type": "code",
   "execution_count": null,
   "id": "7371c2bb",
   "metadata": {},
   "outputs": [],
   "source": [
    "# Remove the example_var variables\n",
    "isDelvar = input(\"-- Want to delete the tmpl_var (Y/Enter): \")\n",
    "while isDelvar.lower() == 'y':\n",
    "    tmplVar = input(\"Enter the template var name to delete: \")\n",
    "    if tmplVar in var_attr.keys(): \n",
    "        del var_attr[tmplVar]\n",
    "    isDelvar = input(\"-- Want to delete the another tmpl_var (Y/Enter): \")\n",
    "print([key for key in var_attr.keys()])"
   ]
  },
  {
   "cell_type": "code",
   "execution_count": null,
   "id": "542c7dee",
   "metadata": {},
   "outputs": [],
   "source": [
    "# Loop through the variables\n",
    "change_val(var_attr)"
   ]
  },
  {
   "cell_type": "code",
   "execution_count": null,
   "id": "01620dfa",
   "metadata": {},
   "outputs": [],
   "source": [
    "# reviewing all the variables\n",
    "# var_attr\n",
    "json_formatted_str = json.dumps(var_attr, indent=2)\n",
    "print(json_formatted_str)"
   ]
  },
  {
   "cell_type": "markdown",
   "id": "62b8255e",
   "metadata": {},
   "source": [
    "# Write the new metadata to netCDF and json files to out_dir directory"
   ]
  },
  {
   "cell_type": "code",
   "execution_count": null,
   "id": "ad4b1410",
   "metadata": {},
   "outputs": [],
   "source": [
    "# Define the output netCDF file path\n",
    "oPath = os.path.join(parentdir, 'out_dir') \n",
    "empty_nc = os.path.join(oPath, output_file + '.nc')\n",
    "empty_nc"
   ]
  },
  {
   "cell_type": "code",
   "execution_count": null,
   "id": "80e266b3",
   "metadata": {},
   "outputs": [],
   "source": [
    "if not os.path.exists(oPath):\n",
    "    os.makedirs(oPath)"
   ]
  },
  {
   "cell_type": "code",
   "execution_count": null,
   "id": "be70b7e3",
   "metadata": {},
   "outputs": [],
   "source": [
    "# Create an empty netCDF file\n",
    "with Dataset(empty_nc, \"w\") as nc:\n",
    "    # Add dimensions\n",
    "    for dim_name, dim_size in mData[\"dimensions\"].items():\n",
    "        nc.createDimension(dim_name, dim_size)\n",
    "\n",
    "    # Add variables and their attributes\n",
    "    for var_name, var_attrs in mData[\"variables\"].items():\n",
    "        var = nc.createVariable(var_name, var_attrs[\"type\"], var_attrs[\"dimensions\"])\n",
    "        for attr_name, attr_value in var_attrs[\"attributes\"].items():\n",
    "            setattr(var, attr_name, attr_value)\n",
    "\n",
    "    # Add global attributes\n",
    "    for global_attr_name, global_attr_value in mData[\"global_attributes\"].items():\n",
    "        setattr(nc, global_attr_name, global_attr_value)\n",
    "\n",
    "print(f\"Empty netCDF file '{empty_nc}' created successfully with embedded JSON metadata attributes.\")"
   ]
  },
  {
   "cell_type": "code",
   "execution_count": null,
   "id": "ecb8f6b1",
   "metadata": {},
   "outputs": [],
   "source": [
    "# system call to display the customized meta info from the netCDF. \n",
    "!ncdump -h out_dir\\empty_netcdf.nc"
   ]
  },
  {
   "cell_type": "code",
   "execution_count": null,
   "id": "5a6e8b7c",
   "metadata": {},
   "outputs": [],
   "source": [
    "# Output the modified metadata dict to a json file.\n",
    "out_json = os.path.join(oPath, 'meta_tmpl' + '.json')\n",
    "with open(out_json, 'w', encoding='utf-8') as f:\n",
    "    json.dump(mData, f, ensure_ascii=False, indent=4)"
   ]
  },
  {
   "cell_type": "code",
   "execution_count": null,
   "id": "6388d29f",
   "metadata": {},
   "outputs": [],
   "source": []
  }
 ],
 "metadata": {
  "kernelspec": {
   "display_name": "Python 3 (ipykernel)",
   "language": "python",
   "name": "python3"
  },
  "language_info": {
   "codemirror_mode": {
    "name": "ipython",
    "version": 3
   },
   "file_extension": ".py",
   "mimetype": "text/x-python",
   "name": "python",
   "nbconvert_exporter": "python",
   "pygments_lexer": "ipython3",
   "version": "3.9.18"
  }
 },
 "nbformat": 4,
 "nbformat_minor": 5
}
